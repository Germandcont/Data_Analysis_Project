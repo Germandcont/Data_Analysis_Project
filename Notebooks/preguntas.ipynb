{
 "cells": [
  {
   "cell_type": "markdown",
   "metadata": {},
   "source": [
    "### NECESITO SABER QUE ESTOY INVESTIGANDO PARA PODER SABER QUE DATOS DEL DATA FRAME ME SIRVEN"
   ]
  },
  {
   "cell_type": "markdown",
   "metadata": {},
   "source": [
    "1. CUANTO INVIERTO PARA QUE EL REVENUE SEA MAYOR A UN X% ?\n",
    "2. CADA CUANTAS IMPRESIONES GENERO UN CLICK\n",
    "3. CADA CUANTOS CLIKS GENERO UNA CONVERSION\n",
    "4. CUANTO TENGO QUE INVERTIR PARA QUE GENERAR ESTOS CLICKS\n",
    "5. 1 CONVERSION A CUANTO EQUIVALE DE REVENUE\n",
    "6. Hay relacion entre la duracion y el spend? \n",
    "\n",
    "Que producto necesita menor inversion para conseguir revenue\n",
    "Que canal es conveniento\n",
    "Que"
   ]
  }
 ],
 "metadata": {
  "kernelspec": {
   "display_name": "Python 3",
   "language": "python",
   "name": "python3"
  },
  "language_info": {
   "codemirror_mode": {
    "name": "ipython",
    "version": 3
   },
   "file_extension": ".py",
   "mimetype": "text/x-python",
   "name": "python",
   "nbconvert_exporter": "python",
   "pygments_lexer": "ipython3",
   "version": "3.12.7"
  }
 },
 "nbformat": 4,
 "nbformat_minor": 2
}
